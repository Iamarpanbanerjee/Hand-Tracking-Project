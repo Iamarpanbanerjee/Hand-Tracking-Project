{
 "cells": [
  {
   "cell_type": "code",
   "execution_count": null,
   "metadata": {},
   "outputs": [],
   "source": [
    "import cv2\n",
    "import mediapipe as mp\n",
    "import time"
   ]
  },
  {
   "cell_type": "code",
   "execution_count": null,
   "metadata": {},
   "outputs": [],
   "source": [
    "# for read the webcam video\n",
    "capture = cv2.VideoCapture(0)\n",
    "\n",
    "mpHands = mp.solutions.hands\n",
    "hands = mpHands.Hands()\n",
    "\n",
    "#draw points in hands\n",
    "mpDraw = mp.solutions.drawing_utils\n",
    "\n",
    "##check FPS\n",
    "PastTime = 0\n",
    "CurrentTime = 0\n",
    "\n",
    "\n",
    "while True:\n",
    "    success, img = capture.read()\n",
    "\n",
    "    imgRGB = cv2.cvtColor(img, cv2.COLOR_BGR2RGB)\n",
    "    results = hands.process(imgRGB)\n",
    "\n",
    "    # to check if there are multiple hands\n",
    "    #print(results.multi_hand_landmarks)\n",
    "\n",
    "    #for checking points in every hand\n",
    "    if results.multi_hand_landmarks:\n",
    "        for handlandmarks in results.multi_hand_landmarks:\n",
    "            # for id numer of each points in hands\n",
    "            for id, lm in enumerate(handlandmarks.landmark):\n",
    "                # print(id, lm)\n",
    "                h, w, c = img.shape\n",
    "                # each point pixel value in hand\n",
    "                cx, cy = int(lm.x*w) , int(lm.y*h)\n",
    "                print (id, cx, cy)\n",
    "\n",
    "                # particular point landmark point position\n",
    "                #if id == 20:\n",
    "                cv2.circle(img, (cx, cy), 15, (255,0,255), cv2.FILLED) # if we remove the if part then it would return all of that\n",
    "\n",
    "            mpDraw.draw_landmarks(img, handlandmarks, mpHands.HAND_CONNECTIONS)\n",
    "\n",
    "    #showing the FPS\n",
    "    CurrentTime = time.time()\n",
    "    fps = 1/(CurrentTime-PastTime)\n",
    "    PastTime = CurrentTime\n",
    "\n",
    "    cv2.putText(img, str(int(fps)), (10,70), cv2.FONT_HERSHEY_PLAIN,3,(255,0,255),3)\n",
    "\n",
    "    cv2.imshow(\"WEBCAM VIDEO\", img)\n",
    "    Key= cv2.waitKey(1)\n",
    "\n",
    "    # If the 'q' key is pressed (ASCII value 113), break out of the loop\n",
    "    if Key == ord('q'):\n",
    "        break\n",
    "\n",
    "# Release the camera and close all OpenCV windows\n",
    "capture.release()\n",
    "cv2.destroyAllWindows()\n"
   ]
  }
 ],
 "metadata": {
  "kernelspec": {
   "display_name": "Python 3",
   "language": "python",
   "name": "python3"
  },
  "language_info": {
   "codemirror_mode": {
    "name": "ipython",
    "version": 3
   },
   "file_extension": ".py",
   "mimetype": "text/x-python",
   "name": "python",
   "nbconvert_exporter": "python",
   "pygments_lexer": "ipython3",
   "version": "3.11.3"
  }
 },
 "nbformat": 4,
 "nbformat_minor": 2
}
